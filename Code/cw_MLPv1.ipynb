{
  "nbformat": 4,
  "nbformat_minor": 0,
  "metadata": {
    "colab": {
      "name": "cw_MLPv1.ipynb",
      "provenance": [],
      "collapsed_sections": [],
      "toc_visible": true
    },
    "kernelspec": {
      "name": "python3",
      "display_name": "Python 3"
    },
    "language_info": {
      "name": "python"
    },
    "widgets": {
      "application/vnd.jupyter.widget-state+json": {
        "c85d11f133c34dfdb39d40e27df0064b": {
          "model_module": "@jupyter-widgets/controls",
          "model_name": "HBoxModel",
          "model_module_version": "1.5.0",
          "state": {
            "_dom_classes": [],
            "_model_module": "@jupyter-widgets/controls",
            "_model_module_version": "1.5.0",
            "_model_name": "HBoxModel",
            "_view_count": null,
            "_view_module": "@jupyter-widgets/controls",
            "_view_module_version": "1.5.0",
            "_view_name": "HBoxView",
            "box_style": "",
            "children": [
              "IPY_MODEL_8b44e32384984e5cbdc39a695aba10a7",
              "IPY_MODEL_4180d7b937504808a06a8b8c1e5c6978",
              "IPY_MODEL_67e8b57df041449aaae13c2b39e94aed"
            ],
            "layout": "IPY_MODEL_fbea5986d2554a4298c57342499fefa2"
          }
        },
        "8b44e32384984e5cbdc39a695aba10a7": {
          "model_module": "@jupyter-widgets/controls",
          "model_name": "HTMLModel",
          "model_module_version": "1.5.0",
          "state": {
            "_dom_classes": [],
            "_model_module": "@jupyter-widgets/controls",
            "_model_module_version": "1.5.0",
            "_model_name": "HTMLModel",
            "_view_count": null,
            "_view_module": "@jupyter-widgets/controls",
            "_view_module_version": "1.5.0",
            "_view_name": "HTMLView",
            "description": "",
            "description_tooltip": null,
            "layout": "IPY_MODEL_696fd885247346949c5286a763ef431c",
            "placeholder": "​",
            "style": "IPY_MODEL_ba4bdb3b20d04f3ebf608f4d92a44437",
            "value": "  0%"
          }
        },
        "4180d7b937504808a06a8b8c1e5c6978": {
          "model_module": "@jupyter-widgets/controls",
          "model_name": "FloatProgressModel",
          "model_module_version": "1.5.0",
          "state": {
            "_dom_classes": [],
            "_model_module": "@jupyter-widgets/controls",
            "_model_module_version": "1.5.0",
            "_model_name": "FloatProgressModel",
            "_view_count": null,
            "_view_module": "@jupyter-widgets/controls",
            "_view_module_version": "1.5.0",
            "_view_name": "ProgressView",
            "bar_style": "danger",
            "description": "",
            "description_tooltip": null,
            "layout": "IPY_MODEL_9bb6426cae1742669ff3c28eaa329345",
            "max": 100,
            "min": 0,
            "orientation": "horizontal",
            "style": "IPY_MODEL_2ad7ef85d7d8417dac14a294d1ed493f",
            "value": 0
          }
        },
        "67e8b57df041449aaae13c2b39e94aed": {
          "model_module": "@jupyter-widgets/controls",
          "model_name": "HTMLModel",
          "model_module_version": "1.5.0",
          "state": {
            "_dom_classes": [],
            "_model_module": "@jupyter-widgets/controls",
            "_model_module_version": "1.5.0",
            "_model_name": "HTMLModel",
            "_view_count": null,
            "_view_module": "@jupyter-widgets/controls",
            "_view_module_version": "1.5.0",
            "_view_name": "HTMLView",
            "description": "",
            "description_tooltip": null,
            "layout": "IPY_MODEL_833e45383a744f4b8b6b928e089ea8cf",
            "placeholder": "​",
            "style": "IPY_MODEL_2066020d2fa74a2d93a939fa472cd0b6",
            "value": " 0/100 [00:00&lt;?, ?it/s]"
          }
        },
        "fbea5986d2554a4298c57342499fefa2": {
          "model_module": "@jupyter-widgets/base",
          "model_name": "LayoutModel",
          "model_module_version": "1.2.0",
          "state": {
            "_model_module": "@jupyter-widgets/base",
            "_model_module_version": "1.2.0",
            "_model_name": "LayoutModel",
            "_view_count": null,
            "_view_module": "@jupyter-widgets/base",
            "_view_module_version": "1.2.0",
            "_view_name": "LayoutView",
            "align_content": null,
            "align_items": null,
            "align_self": null,
            "border": null,
            "bottom": null,
            "display": null,
            "flex": null,
            "flex_flow": null,
            "grid_area": null,
            "grid_auto_columns": null,
            "grid_auto_flow": null,
            "grid_auto_rows": null,
            "grid_column": null,
            "grid_gap": null,
            "grid_row": null,
            "grid_template_areas": null,
            "grid_template_columns": null,
            "grid_template_rows": null,
            "height": null,
            "justify_content": null,
            "justify_items": null,
            "left": null,
            "margin": null,
            "max_height": null,
            "max_width": null,
            "min_height": null,
            "min_width": null,
            "object_fit": null,
            "object_position": null,
            "order": null,
            "overflow": null,
            "overflow_x": null,
            "overflow_y": null,
            "padding": null,
            "right": null,
            "top": null,
            "visibility": null,
            "width": null
          }
        },
        "696fd885247346949c5286a763ef431c": {
          "model_module": "@jupyter-widgets/base",
          "model_name": "LayoutModel",
          "model_module_version": "1.2.0",
          "state": {
            "_model_module": "@jupyter-widgets/base",
            "_model_module_version": "1.2.0",
            "_model_name": "LayoutModel",
            "_view_count": null,
            "_view_module": "@jupyter-widgets/base",
            "_view_module_version": "1.2.0",
            "_view_name": "LayoutView",
            "align_content": null,
            "align_items": null,
            "align_self": null,
            "border": null,
            "bottom": null,
            "display": null,
            "flex": null,
            "flex_flow": null,
            "grid_area": null,
            "grid_auto_columns": null,
            "grid_auto_flow": null,
            "grid_auto_rows": null,
            "grid_column": null,
            "grid_gap": null,
            "grid_row": null,
            "grid_template_areas": null,
            "grid_template_columns": null,
            "grid_template_rows": null,
            "height": null,
            "justify_content": null,
            "justify_items": null,
            "left": null,
            "margin": null,
            "max_height": null,
            "max_width": null,
            "min_height": null,
            "min_width": null,
            "object_fit": null,
            "object_position": null,
            "order": null,
            "overflow": null,
            "overflow_x": null,
            "overflow_y": null,
            "padding": null,
            "right": null,
            "top": null,
            "visibility": null,
            "width": null
          }
        },
        "ba4bdb3b20d04f3ebf608f4d92a44437": {
          "model_module": "@jupyter-widgets/controls",
          "model_name": "DescriptionStyleModel",
          "model_module_version": "1.5.0",
          "state": {
            "_model_module": "@jupyter-widgets/controls",
            "_model_module_version": "1.5.0",
            "_model_name": "DescriptionStyleModel",
            "_view_count": null,
            "_view_module": "@jupyter-widgets/base",
            "_view_module_version": "1.2.0",
            "_view_name": "StyleView",
            "description_width": ""
          }
        },
        "9bb6426cae1742669ff3c28eaa329345": {
          "model_module": "@jupyter-widgets/base",
          "model_name": "LayoutModel",
          "model_module_version": "1.2.0",
          "state": {
            "_model_module": "@jupyter-widgets/base",
            "_model_module_version": "1.2.0",
            "_model_name": "LayoutModel",
            "_view_count": null,
            "_view_module": "@jupyter-widgets/base",
            "_view_module_version": "1.2.0",
            "_view_name": "LayoutView",
            "align_content": null,
            "align_items": null,
            "align_self": null,
            "border": null,
            "bottom": null,
            "display": null,
            "flex": null,
            "flex_flow": null,
            "grid_area": null,
            "grid_auto_columns": null,
            "grid_auto_flow": null,
            "grid_auto_rows": null,
            "grid_column": null,
            "grid_gap": null,
            "grid_row": null,
            "grid_template_areas": null,
            "grid_template_columns": null,
            "grid_template_rows": null,
            "height": null,
            "justify_content": null,
            "justify_items": null,
            "left": null,
            "margin": null,
            "max_height": null,
            "max_width": null,
            "min_height": null,
            "min_width": null,
            "object_fit": null,
            "object_position": null,
            "order": null,
            "overflow": null,
            "overflow_x": null,
            "overflow_y": null,
            "padding": null,
            "right": null,
            "top": null,
            "visibility": null,
            "width": null
          }
        },
        "2ad7ef85d7d8417dac14a294d1ed493f": {
          "model_module": "@jupyter-widgets/controls",
          "model_name": "ProgressStyleModel",
          "model_module_version": "1.5.0",
          "state": {
            "_model_module": "@jupyter-widgets/controls",
            "_model_module_version": "1.5.0",
            "_model_name": "ProgressStyleModel",
            "_view_count": null,
            "_view_module": "@jupyter-widgets/base",
            "_view_module_version": "1.2.0",
            "_view_name": "StyleView",
            "bar_color": null,
            "description_width": ""
          }
        },
        "833e45383a744f4b8b6b928e089ea8cf": {
          "model_module": "@jupyter-widgets/base",
          "model_name": "LayoutModel",
          "model_module_version": "1.2.0",
          "state": {
            "_model_module": "@jupyter-widgets/base",
            "_model_module_version": "1.2.0",
            "_model_name": "LayoutModel",
            "_view_count": null,
            "_view_module": "@jupyter-widgets/base",
            "_view_module_version": "1.2.0",
            "_view_name": "LayoutView",
            "align_content": null,
            "align_items": null,
            "align_self": null,
            "border": null,
            "bottom": null,
            "display": null,
            "flex": null,
            "flex_flow": null,
            "grid_area": null,
            "grid_auto_columns": null,
            "grid_auto_flow": null,
            "grid_auto_rows": null,
            "grid_column": null,
            "grid_gap": null,
            "grid_row": null,
            "grid_template_areas": null,
            "grid_template_columns": null,
            "grid_template_rows": null,
            "height": null,
            "justify_content": null,
            "justify_items": null,
            "left": null,
            "margin": null,
            "max_height": null,
            "max_width": null,
            "min_height": null,
            "min_width": null,
            "object_fit": null,
            "object_position": null,
            "order": null,
            "overflow": null,
            "overflow_x": null,
            "overflow_y": null,
            "padding": null,
            "right": null,
            "top": null,
            "visibility": null,
            "width": null
          }
        },
        "2066020d2fa74a2d93a939fa472cd0b6": {
          "model_module": "@jupyter-widgets/controls",
          "model_name": "DescriptionStyleModel",
          "model_module_version": "1.5.0",
          "state": {
            "_model_module": "@jupyter-widgets/controls",
            "_model_module_version": "1.5.0",
            "_model_name": "DescriptionStyleModel",
            "_view_count": null,
            "_view_module": "@jupyter-widgets/base",
            "_view_module_version": "1.2.0",
            "_view_name": "StyleView",
            "description_width": ""
          }
        },
        "a197dc3c86f44095a2d26ab02ef54a29": {
          "model_module": "@jupyter-widgets/controls",
          "model_name": "HBoxModel",
          "model_module_version": "1.5.0",
          "state": {
            "_dom_classes": [],
            "_model_module": "@jupyter-widgets/controls",
            "_model_module_version": "1.5.0",
            "_model_name": "HBoxModel",
            "_view_count": null,
            "_view_module": "@jupyter-widgets/controls",
            "_view_module_version": "1.5.0",
            "_view_name": "HBoxView",
            "box_style": "",
            "children": [
              "IPY_MODEL_77ef4a37c5cf4e3a814be3f6a5ec5451",
              "IPY_MODEL_7a5f1c4adf4b401297b7db35dc58bf8d",
              "IPY_MODEL_b6f7637b67294337a3407dae4fea0b60"
            ],
            "layout": "IPY_MODEL_e27cfe77fe044ba5a12f6d2373ea8612"
          }
        },
        "77ef4a37c5cf4e3a814be3f6a5ec5451": {
          "model_module": "@jupyter-widgets/controls",
          "model_name": "HTMLModel",
          "model_module_version": "1.5.0",
          "state": {
            "_dom_classes": [],
            "_model_module": "@jupyter-widgets/controls",
            "_model_module_version": "1.5.0",
            "_model_name": "HTMLModel",
            "_view_count": null,
            "_view_module": "@jupyter-widgets/controls",
            "_view_module_version": "1.5.0",
            "_view_name": "HTMLView",
            "description": "",
            "description_tooltip": null,
            "layout": "IPY_MODEL_54bc5a4a0ed648fea8b22738f3b6de05",
            "placeholder": "​",
            "style": "IPY_MODEL_f8b9694ed5314565b17f2201c036afc8",
            "value": "Training:   0%"
          }
        },
        "7a5f1c4adf4b401297b7db35dc58bf8d": {
          "model_module": "@jupyter-widgets/controls",
          "model_name": "FloatProgressModel",
          "model_module_version": "1.5.0",
          "state": {
            "_dom_classes": [],
            "_model_module": "@jupyter-widgets/controls",
            "_model_module_version": "1.5.0",
            "_model_name": "FloatProgressModel",
            "_view_count": null,
            "_view_module": "@jupyter-widgets/controls",
            "_view_module_version": "1.5.0",
            "_view_name": "ProgressView",
            "bar_style": "danger",
            "description": "",
            "description_tooltip": null,
            "layout": "IPY_MODEL_d23843cd188b4612bce6e58178483774",
            "max": 99,
            "min": 0,
            "orientation": "horizontal",
            "style": "IPY_MODEL_2e9865aecca1486893c0a74365492786",
            "value": 0
          }
        },
        "b6f7637b67294337a3407dae4fea0b60": {
          "model_module": "@jupyter-widgets/controls",
          "model_name": "HTMLModel",
          "model_module_version": "1.5.0",
          "state": {
            "_dom_classes": [],
            "_model_module": "@jupyter-widgets/controls",
            "_model_module_version": "1.5.0",
            "_model_name": "HTMLModel",
            "_view_count": null,
            "_view_module": "@jupyter-widgets/controls",
            "_view_module_version": "1.5.0",
            "_view_name": "HTMLView",
            "description": "",
            "description_tooltip": null,
            "layout": "IPY_MODEL_9c6d4628b3b64a8b8c35ac09c00b7e6f",
            "placeholder": "​",
            "style": "IPY_MODEL_ad13510868db4f40aaa1206b9cae8738",
            "value": " 0/99 [00:00&lt;?, ?it/s]"
          }
        },
        "e27cfe77fe044ba5a12f6d2373ea8612": {
          "model_module": "@jupyter-widgets/base",
          "model_name": "LayoutModel",
          "model_module_version": "1.2.0",
          "state": {
            "_model_module": "@jupyter-widgets/base",
            "_model_module_version": "1.2.0",
            "_model_name": "LayoutModel",
            "_view_count": null,
            "_view_module": "@jupyter-widgets/base",
            "_view_module_version": "1.2.0",
            "_view_name": "LayoutView",
            "align_content": null,
            "align_items": null,
            "align_self": null,
            "border": null,
            "bottom": null,
            "display": null,
            "flex": null,
            "flex_flow": null,
            "grid_area": null,
            "grid_auto_columns": null,
            "grid_auto_flow": null,
            "grid_auto_rows": null,
            "grid_column": null,
            "grid_gap": null,
            "grid_row": null,
            "grid_template_areas": null,
            "grid_template_columns": null,
            "grid_template_rows": null,
            "height": null,
            "justify_content": null,
            "justify_items": null,
            "left": null,
            "margin": null,
            "max_height": null,
            "max_width": null,
            "min_height": null,
            "min_width": null,
            "object_fit": null,
            "object_position": null,
            "order": null,
            "overflow": null,
            "overflow_x": null,
            "overflow_y": null,
            "padding": null,
            "right": null,
            "top": null,
            "visibility": null,
            "width": null
          }
        },
        "54bc5a4a0ed648fea8b22738f3b6de05": {
          "model_module": "@jupyter-widgets/base",
          "model_name": "LayoutModel",
          "model_module_version": "1.2.0",
          "state": {
            "_model_module": "@jupyter-widgets/base",
            "_model_module_version": "1.2.0",
            "_model_name": "LayoutModel",
            "_view_count": null,
            "_view_module": "@jupyter-widgets/base",
            "_view_module_version": "1.2.0",
            "_view_name": "LayoutView",
            "align_content": null,
            "align_items": null,
            "align_self": null,
            "border": null,
            "bottom": null,
            "display": null,
            "flex": null,
            "flex_flow": null,
            "grid_area": null,
            "grid_auto_columns": null,
            "grid_auto_flow": null,
            "grid_auto_rows": null,
            "grid_column": null,
            "grid_gap": null,
            "grid_row": null,
            "grid_template_areas": null,
            "grid_template_columns": null,
            "grid_template_rows": null,
            "height": null,
            "justify_content": null,
            "justify_items": null,
            "left": null,
            "margin": null,
            "max_height": null,
            "max_width": null,
            "min_height": null,
            "min_width": null,
            "object_fit": null,
            "object_position": null,
            "order": null,
            "overflow": null,
            "overflow_x": null,
            "overflow_y": null,
            "padding": null,
            "right": null,
            "top": null,
            "visibility": null,
            "width": null
          }
        },
        "f8b9694ed5314565b17f2201c036afc8": {
          "model_module": "@jupyter-widgets/controls",
          "model_name": "DescriptionStyleModel",
          "model_module_version": "1.5.0",
          "state": {
            "_model_module": "@jupyter-widgets/controls",
            "_model_module_version": "1.5.0",
            "_model_name": "DescriptionStyleModel",
            "_view_count": null,
            "_view_module": "@jupyter-widgets/base",
            "_view_module_version": "1.2.0",
            "_view_name": "StyleView",
            "description_width": ""
          }
        },
        "d23843cd188b4612bce6e58178483774": {
          "model_module": "@jupyter-widgets/base",
          "model_name": "LayoutModel",
          "model_module_version": "1.2.0",
          "state": {
            "_model_module": "@jupyter-widgets/base",
            "_model_module_version": "1.2.0",
            "_model_name": "LayoutModel",
            "_view_count": null,
            "_view_module": "@jupyter-widgets/base",
            "_view_module_version": "1.2.0",
            "_view_name": "LayoutView",
            "align_content": null,
            "align_items": null,
            "align_self": null,
            "border": null,
            "bottom": null,
            "display": null,
            "flex": null,
            "flex_flow": null,
            "grid_area": null,
            "grid_auto_columns": null,
            "grid_auto_flow": null,
            "grid_auto_rows": null,
            "grid_column": null,
            "grid_gap": null,
            "grid_row": null,
            "grid_template_areas": null,
            "grid_template_columns": null,
            "grid_template_rows": null,
            "height": null,
            "justify_content": null,
            "justify_items": null,
            "left": null,
            "margin": null,
            "max_height": null,
            "max_width": null,
            "min_height": null,
            "min_width": null,
            "object_fit": null,
            "object_position": null,
            "order": null,
            "overflow": null,
            "overflow_x": null,
            "overflow_y": null,
            "padding": null,
            "right": null,
            "top": null,
            "visibility": null,
            "width": null
          }
        },
        "2e9865aecca1486893c0a74365492786": {
          "model_module": "@jupyter-widgets/controls",
          "model_name": "ProgressStyleModel",
          "model_module_version": "1.5.0",
          "state": {
            "_model_module": "@jupyter-widgets/controls",
            "_model_module_version": "1.5.0",
            "_model_name": "ProgressStyleModel",
            "_view_count": null,
            "_view_module": "@jupyter-widgets/base",
            "_view_module_version": "1.2.0",
            "_view_name": "StyleView",
            "bar_color": null,
            "description_width": ""
          }
        },
        "9c6d4628b3b64a8b8c35ac09c00b7e6f": {
          "model_module": "@jupyter-widgets/base",
          "model_name": "LayoutModel",
          "model_module_version": "1.2.0",
          "state": {
            "_model_module": "@jupyter-widgets/base",
            "_model_module_version": "1.2.0",
            "_model_name": "LayoutModel",
            "_view_count": null,
            "_view_module": "@jupyter-widgets/base",
            "_view_module_version": "1.2.0",
            "_view_name": "LayoutView",
            "align_content": null,
            "align_items": null,
            "align_self": null,
            "border": null,
            "bottom": null,
            "display": null,
            "flex": null,
            "flex_flow": null,
            "grid_area": null,
            "grid_auto_columns": null,
            "grid_auto_flow": null,
            "grid_auto_rows": null,
            "grid_column": null,
            "grid_gap": null,
            "grid_row": null,
            "grid_template_areas": null,
            "grid_template_columns": null,
            "grid_template_rows": null,
            "height": null,
            "justify_content": null,
            "justify_items": null,
            "left": null,
            "margin": null,
            "max_height": null,
            "max_width": null,
            "min_height": null,
            "min_width": null,
            "object_fit": null,
            "object_position": null,
            "order": null,
            "overflow": null,
            "overflow_x": null,
            "overflow_y": null,
            "padding": null,
            "right": null,
            "top": null,
            "visibility": null,
            "width": null
          }
        },
        "ad13510868db4f40aaa1206b9cae8738": {
          "model_module": "@jupyter-widgets/controls",
          "model_name": "DescriptionStyleModel",
          "model_module_version": "1.5.0",
          "state": {
            "_model_module": "@jupyter-widgets/controls",
            "_model_module_version": "1.5.0",
            "_model_name": "DescriptionStyleModel",
            "_view_count": null,
            "_view_module": "@jupyter-widgets/base",
            "_view_module_version": "1.2.0",
            "_view_name": "StyleView",
            "description_width": ""
          }
        }
      }
    },
    "accelerator": "GPU"
  },
  "cells": [
    {
      "cell_type": "markdown",
      "source": [
        "# cw_MLPv1"
      ],
      "metadata": {
        "id": "1Fi25KMkAeDJ"
      }
    },
    {
      "cell_type": "code",
      "source": [
        "#update opencv; restart runtime\n",
        "!pip install opencv-python==4.5.5.64 --quiet\n",
        "!pip install wandb --quiet\n"
      ],
      "metadata": {
        "id": "Ot4SePoCAh6I",
        "colab": {
          "base_uri": "https://localhost:8080/",
          "height": 0
        },
        "outputId": "35ed4282-3f00-4287-8cfa-5f04d687a9ed"
      },
      "execution_count": 2,
      "outputs": [
        {
          "output_type": "stream",
          "name": "stdout",
          "text": [
            "\u001b[K     |████████████████████████████████| 60.5 MB 74 kB/s \n",
            "\u001b[31mERROR: pip's dependency resolver does not currently take into account all the packages that are installed. This behaviour is the source of the following dependency conflicts.\n",
            "albumentations 0.1.12 requires imgaug<0.2.7,>=0.2.5, but you have imgaug 0.2.9 which is incompatible.\u001b[0m\n",
            "\u001b[K     |████████████████████████████████| 1.8 MB 20.6 MB/s \n",
            "\u001b[K     |████████████████████████████████| 181 kB 54.6 MB/s \n",
            "\u001b[K     |████████████████████████████████| 145 kB 67.6 MB/s \n",
            "\u001b[K     |████████████████████████████████| 63 kB 1.8 MB/s \n",
            "\u001b[?25h  Building wheel for pathtools (setup.py) ... \u001b[?25l\u001b[?25hdone\n"
          ]
        }
      ]
    },
    {
      "cell_type": "code",
      "source": [
        "#import libraries\n",
        "import os\n",
        "import re\n",
        "import cv2\n",
        "import time\n",
        "import random\n",
        "import warnings\n",
        "import wandb\n",
        "import timeit\n",
        "import torch\n",
        "import torch.nn as nn\n",
        "import torch.nn.functional as F\n",
        "import torch.optim as optim\n",
        "import numpy as np\n",
        "import pandas as pd\n",
        "import matplotlib.pyplot as plt\n",
        "import seaborn as sns\n",
        "from tqdm.notebook import trange, tqdm\n",
        "from random import randint\n",
        "from google.colab import drive\n",
        "from skimage.feature import hog\n",
        "from sklearn import svm, metrics\n",
        "from skimage import io, transform, img_as_ubyte, color\n",
        "from torch.utils.data import Dataset, DataLoader\n",
        "from imblearn.over_sampling import RandomOverSampler\n",
        "from imblearn.under_sampling import RandomUnderSampler \n",
        "from sklearn.model_selection import train_test_split\n",
        "from sklearn.cluster import MiniBatchKMeans\n",
        "from sklearn.neural_network import MLPClassifier\n",
        "device = torch.device('cuda' if torch.cuda.is_available() else 'cpu')\n",
        "sns.set_style(\"whitegrid\")"
      ],
      "metadata": {
        "id": "h6AMly8SANaa"
      },
      "execution_count": 3,
      "outputs": []
    },
    {
      "cell_type": "markdown",
      "source": [
        "# 🔍 Import Images and Extracting Features"
      ],
      "metadata": {
        "id": "_BZnsxBV-i4M"
      }
    },
    {
      "cell_type": "markdown",
      "source": [
        "## 🖼 Create dataset"
      ],
      "metadata": {
        "id": "hrulUieF-y1R"
      }
    },
    {
      "cell_type": "markdown",
      "source": [
        "The steps are similar to loading on the SVM except I'll be using the Pytorch module to iterate over the data."
      ],
      "metadata": {
        "id": "b21CEgNyjgmb"
      }
    },
    {
      "cell_type": "code",
      "source": [
        "#Mount Google Drive\n",
        "drive.mount('/content/drive')\n",
        "GOOGLE_DRIVE_PATH_AFTER_MYDRIVE = 'Computer Vision Coursework/CW_Folder_PG' \n",
        "GOOGLE_DRIVE_PATH = os.path.join('drive', 'My Drive', GOOGLE_DRIVE_PATH_AFTER_MYDRIVE)\n",
        "print(os.listdir(GOOGLE_DRIVE_PATH))"
      ],
      "metadata": {
        "colab": {
          "base_uri": "https://localhost:8080/",
          "height": 0
        },
        "outputId": "fc4ab80a-afed-4ebf-ce2e-584330887a4a",
        "id": "iGJFgv32-uyG"
      },
      "execution_count": 6,
      "outputs": [
        {
          "output_type": "stream",
          "name": "stdout",
          "text": [
            "Mounted at /content/drive\n",
            "['.DS_Store', 'Models', 'CW_Dataset', 'Code', 'Video', 'test_functions_scratch.ipynb']\n"
          ]
        }
      ]
    },
    {
      "cell_type": "code",
      "source": [
        "# Identify path to zipped dataset\n",
        "zip_path = os.path.join(GOOGLE_DRIVE_PATH, 'CW_Dataset/CW_Dataset.zip')\n",
        "\n",
        "# Copy it to Colab\n",
        "!cp '{zip_path}' .\n",
        "\n",
        "# Unzip it\n",
        "!yes|unzip -q CW_Dataset.zip\n",
        "\n",
        "# Delete zipped version from Colab (not from Drive)\n",
        "!rm CW_Dataset.zip"
      ],
      "metadata": {
        "id": "wlT4TmpU-uyH"
      },
      "execution_count": 7,
      "outputs": []
    },
    {
      "cell_type": "code",
      "source": [
        "def load_images(root_dir, label_path):\n",
        "    \"\"\"Return an array of images and array of labels.\n",
        "\n",
        "    Args:\n",
        "        root_dir (string): Folder containing all the images with sequential numbering.\n",
        "        label_path (string): Path to text file listing image filenames (sequential) and labels in this order.\n",
        "\n",
        "    Returns:\n",
        "        A tuple containing an array of images and an array of labels\n",
        "    \"\"\"\n",
        "    # import filenames and respective labels\n",
        "    df = pd.read_csv(label_path,\n",
        "                     delimiter=' ',\n",
        "                     header=None,\n",
        "                     names=['filename', 'label'])\n",
        "    df.sort_values('filename', inplace=True)\n",
        "    # import images\n",
        "    images = []\n",
        "    # !sort image folder\n",
        "    image_folder = sorted(os.listdir(root_dir))\n",
        "    # generator to extract each image path\n",
        "    images_in_folder = (file for file in image_folder if file.endswith('.jpg'))\n",
        "    count = 0  # index\n",
        "    for image_path, image_label in zip(images_in_folder, (df['filename'])):\n",
        "        count += 1  # check if filenames and filenames in labels list are equal\n",
        "        if re.findall(r'\\d+', image_path) == re.findall(r'\\d+', image_label):\n",
        "            image = io.imread(os.path.join(root_dir, image_path))\n",
        "            images.append(image)\n",
        "        else:\n",
        "            print(f'Found unmatched image file {image_path} and label {image_label} \\\n",
        "                at index {count}')\n",
        "            pass\n",
        "\n",
        "    return np.array(images), np.array(df['label'])\n",
        "\n",
        "\n",
        "def plot_classification(true_label,\n",
        "                        predicted_labels,\n",
        "                        classifier: str = 'SVM-BoVW',\n",
        "                        des: str = 'train'):\n",
        "    \"\"\"\n",
        "    Return classification report and plot matrix.\n",
        "    \"\"\"\n",
        "    with warnings.catch_warnings():\n",
        "        label_axis = ['Surprise', 'Fear', 'Disgust', 'Happiness', 'Sadness', 'Anger', 'Neutral']\n",
        "        warnings.simplefilter('ignore')\n",
        "        print(f\"\"\"Classification report for classifier {classifier} on {str(des)} set:\n",
        "          {metrics.classification_report(true_label, predicted_labels)}\\n\"\"\")\n",
        "        cm = metrics.confusion_matrix(true_label, predicted_labels)\n",
        "        sns.heatmap(cm/np.sum(cm), cmap='YlGnBu', annot=True, fmt='.2%', xticklabels=label_axis, yticklabels=label_axis)"
      ],
      "metadata": {
        "id": "Hrl3FxCo-uyH"
      },
      "execution_count": 8,
      "outputs": []
    },
    {
      "cell_type": "code",
      "source": [
        "#Create training and validation sets\n",
        "#load images\n",
        "X, y = load_images('/content/train',\n",
        "           '/content/labels/list_label_train.txt')\n",
        "\n",
        "#split X, y\n",
        "X_train, X_val, y_train, y_val = train_test_split(\n",
        "    X, y, test_size=0.2, shuffle=True, stratify=y)"
      ],
      "metadata": {
        "id": "PWEA5aOJ-uyH"
      },
      "execution_count": 9,
      "outputs": []
    },
    {
      "cell_type": "markdown",
      "source": [
        "## 📊 Create HOG feature descriptors"
      ],
      "metadata": {
        "id": "cxB-yKQ9_AqT"
      }
    },
    {
      "cell_type": "markdown",
      "source": [
        "I'll be using `feature_vector = True` which flattens the HOG descriptors to vector."
      ],
      "metadata": {
        "id": "88PjmrHBkV7K"
      }
    },
    {
      "cell_type": "code",
      "source": [
        "# Extract HOG features for training set\n",
        "hog_list_xtrain = []\n",
        "for image in X_train:\n",
        "    hos_descriptor =  hog(image,\n",
        "                          orientations=9,\n",
        "                          pixels_per_cell=(8, 8),\n",
        "                          cells_per_block=(1, 1),\n",
        "                          feature_vector = True,\n",
        "                          visualize=False,\n",
        "                          transform_sqrt=True,\n",
        "                          multichannel=True)\n",
        "    hog_list_xtrain.append(hos_descriptor) "
      ],
      "metadata": {
        "id": "FbpPvwO9eU8a"
      },
      "execution_count": 10,
      "outputs": []
    },
    {
      "cell_type": "code",
      "source": [
        "# Doing the same for the Test set\n",
        "hog_list_xval = []\n",
        "for image in X_val:\n",
        "    hos_descriptor =  hog(image,\n",
        "                          orientations=9,\n",
        "                          pixels_per_cell=(8, 8),\n",
        "                          cells_per_block=(1, 1),\n",
        "                          feature_vector = True,\n",
        "                          visualize=False,\n",
        "                          transform_sqrt=True,\n",
        "                          multichannel=True)\n",
        "    hog_list_xval.append(hos_descriptor) "
      ],
      "metadata": {
        "id": "qNEddG74jB8X"
      },
      "execution_count": 11,
      "outputs": []
    },
    {
      "cell_type": "markdown",
      "source": [
        "## 📦 Set-up Dataset for Pytorch"
      ],
      "metadata": {
        "id": "OSnOmkUmLc7I"
      }
    },
    {
      "cell_type": "code",
      "source": [
        "class DatasetHog(Dataset):\n",
        "    #adapted from https://pytorch.org/tutorials/beginner/data_loading_tutorial.html\n",
        "    \"\"\"Images dataset for pytorch.\"\"\"\n",
        "\n",
        "    def __init__(self, descriptors, labels, transform=None):\n",
        "        \"\"\"\n",
        "        Args:\n",
        "            labels : Array of labels.\n",
        "            descriptors (string): Array of HOG descriptors.\n",
        "            transform (callable, optional): Optional transform to be applied\n",
        "                on a sample.\n",
        "        \"\"\"\n",
        "        #self.labels = pd.read_csv(\n",
        "                                  #label_path,\n",
        "                                  #delimiter=' ',\n",
        "                                  #header=None,\n",
        "                                  #names=['filename', 'label']\n",
        "                                #)\n",
        "        #self.root_dir = root_dir\n",
        "        self.labels = (labels - 1) #convert labels to 0-6\n",
        "        self.descriptors = descriptors\n",
        "        self.transform = transform\n",
        "        #self.image_path = sorted(os.listdir(root_dir))\n",
        "        #self.transform = transforms.Compose(\n",
        "                                #[transforms.Normalize(),\n",
        "                                #transforms.ToTensor()]\n",
        "                                #)\n",
        "    def __len__(self):\n",
        "        return len(self.labels)\n",
        "\n",
        "    def __getitem__(self, idx):\n",
        "        if torch.is_tensor(idx):\n",
        "            idx = idx.tolist()\n",
        "\n",
        "        #img_name = os.path.join(self.root_dir,\n",
        "                                #self.labels.iloc[idx, 0])\n",
        "        #image = io.imread(img_name)\n",
        "        descriptors = self.descriptors[idx]\n",
        "        #label = self.labels.iloc[idx, 1]\n",
        "        label = self.labels[idx]\n",
        "        \n",
        "\n",
        "        if self.transform:\n",
        "            image = self.transform(descriptors)\n",
        "        \n",
        "        return descriptors, label"
      ],
      "metadata": {
        "id": "D3Ib-BZZ_7Ms"
      },
      "execution_count": 12,
      "outputs": []
    },
    {
      "cell_type": "code",
      "source": [
        "# Initialize the training data iterator\n",
        "dataset_hog = DatasetHog(hog_list_xtrain, y_train)\n",
        "\n",
        "trainloader = DataLoader(dataset_hog, batch_size=100,\n",
        "                        shuffle=True, num_workers=0)\n",
        "\n",
        "# And the test one\n",
        "dataset_hog_val = DatasetHog(hog_list_xval, y_val)\n",
        "testloader = DataLoader(dataset_hog_val, batch_size=100,\n",
        "                        shuffle=False, num_workers=0)"
      ],
      "metadata": {
        "id": "czN-l0mcN0tn"
      },
      "execution_count": 43,
      "outputs": []
    },
    {
      "cell_type": "code",
      "source": [
        "# This cell's just for testing the outputs\n",
        "# of the above cells are alright\n",
        "count = 0\n",
        "for image_batch, label in trainloader:\n",
        "    count += 1\n",
        "    if count > 10:\n",
        "      x5 = image_batch\n",
        "      break"
      ],
      "metadata": {
        "id": "RcPYI0TTN2qB"
      },
      "execution_count": 14,
      "outputs": []
    },
    {
      "cell_type": "markdown",
      "source": [
        "# 🧠 MLP - HOG"
      ],
      "metadata": {
        "id": "x1Ci8OSR_0RE"
      }
    },
    {
      "cell_type": "markdown",
      "source": [
        "## ⏯ Create and initialize model"
      ],
      "metadata": {
        "id": "D4_m693s_aIs"
      }
    },
    {
      "cell_type": "markdown",
      "source": [
        "I'll initially be creating a MLP with two hidden layers with 256, 128 sizes respectively. The activation functions are ReLU and I'll be using a CrossEntropyLoss function with an Adam optimizer.\n",
        "\n",
        "The model will be evaluated on the validation set after every epoch and I'll set up an early stopping condition."
      ],
      "metadata": {
        "id": "sYah-Vcer0EJ"
      }
    },
    {
      "cell_type": "code",
      "source": [
        "#adapted from https://github.com/christianversloot/machine-learning-articles/blob/main/creating-a-multilayer-perceptron-with-pytorch-and-lightning.md\n",
        "\n",
        "class MLP(nn.Module):\n",
        "  '''\n",
        "    Multilayer Perceptron.\n",
        "  '''\n",
        "  def __init__(self, input_dim, output_dim):\n",
        "    super().__init__()\n",
        "    self.layers = nn.Sequential(\n",
        "      nn.Linear(input_dim, 256),\n",
        "      nn.ReLU(),\n",
        "      nn.Linear(256, 128),\n",
        "      nn.ReLU(),\n",
        "      nn.Dropout(0.3)\n",
        "      nn.Linear(128, output_dim)\n",
        "    )\n",
        "\n",
        "  def forward(self, x):\n",
        "    '''Forward pass'''\n",
        "    #batch_size = x.shape[0]\n",
        "    #x = x.view(batch_size, -1)\n",
        "    return self.layers(x)"
      ],
      "metadata": {
        "id": "c_pDiKBUCbS2"
      },
      "execution_count": 15,
      "outputs": []
    },
    {
      "cell_type": "markdown",
      "source": [
        "Next I'll initialize the model and create the Loss function and the optimizer"
      ],
      "metadata": {
        "id": "dXIu7PbAEkFv"
      }
    },
    {
      "cell_type": "code",
      "source": [
        "# Initialize model\n",
        "model = MLP(1296, 7)\n",
        "\n",
        "# Create the Loss function and the optimizer\n",
        "criterion = nn.CrossEntropyLoss()\n",
        "optimizer = optim.Adam(model.parameters(), lr=0.001) #momentum=0.9)"
      ],
      "metadata": {
        "id": "Z3davYKoEhpe"
      },
      "execution_count": 16,
      "outputs": []
    },
    {
      "cell_type": "markdown",
      "source": [
        "## ⏩ Set-up Training loop"
      ],
      "metadata": {
        "id": "RbRdBp1pAMdW"
      }
    },
    {
      "cell_type": "markdown",
      "source": [
        "Create training loop\n",
        "adapted from https://colab.research.google.com/github/bentrevett/pytorch-image-classification/blob/master/1_mlp.ipynb#scrollTo=p-gtfzafREwc"
      ],
      "metadata": {
        "id": "neHp4ctWI7Aq"
      }
    },
    {
      "cell_type": "code",
      "execution_count": 18,
      "metadata": {
        "id": "VkttGrmkREwP"
      },
      "outputs": [],
      "source": [
        "def flattens(results_list):\n",
        "    y_label_list, y_pred_list = [], []\n",
        "    for i in range(len(results_list) - 1):\n",
        "      label_ = results_list[i][0]\n",
        "      pred_ = results_list[i][1]\n",
        "      y_label_list.append(label_)\n",
        "      y_pred_list.append(pred_)\n",
        "    return [item.cpu().numpy() for sublist in y_label_list for item in sublist], [item.cpu().numpy() for sublist in y_pred_list for item in sublist]\n",
        "\n",
        "# Helper function to calculate accuracy\n",
        "def calculate_accuracy(y_pred, y):\n",
        "    top_pred = y_pred.argmax(1, keepdim=True)\n",
        "    #predss = torch.max(y_pred.data, 1)\n",
        "    correct = top_pred.eq(y.view_as(top_pred)).sum()\n",
        "\n",
        "    acc = correct.float() / y.shape[0]\n",
        "    return acc, #balance_accuracy, f1_score"
      ]
    },
    {
      "cell_type": "code",
      "execution_count": 34,
      "metadata": {
        "id": "0kCtKBMfREwS"
      },
      "outputs": [],
      "source": [
        "def train(model, iterator, optimizer, criterion, device):\n",
        "\n",
        "    epoch_loss = 0\n",
        "    epoch_acc = 0\n",
        "\n",
        "    model.to(device)\n",
        "    model.train()\n",
        "\n",
        "    for (x, y) in tqdm(iterator, desc=\"Training\", leave=False):\n",
        "\n",
        "        x = x.float().to(device)\n",
        "        y = y.to(device)\n",
        "\n",
        "        optimizer.zero_grad()\n",
        "\n",
        "        y_pred = model(x)\n",
        "\n",
        "        loss = criterion(y_pred, y)\n",
        "        \n",
        "\n",
        "        acc = calculate_accuracy(y_pred, y)\n",
        "\n",
        "        loss.backward()\n",
        "\n",
        "        optimizer.step()\n",
        "\n",
        "        epoch_loss += loss.item()\n",
        "        epoch_acc += acc.item()\n",
        "\n",
        "    return epoch_loss / len(iterator), epoch_acc / len(iterator)"
      ]
    },
    {
      "cell_type": "code",
      "execution_count": 35,
      "metadata": {
        "id": "3XL4sRI8REwV"
      },
      "outputs": [],
      "source": [
        "def evaluate(model, iterator, criterion, device):\n",
        "    results_list = []\n",
        "\n",
        "    epoch_loss = 0\n",
        "    epoch_acc = 0\n",
        "\n",
        "    model.eval()\n",
        "\n",
        "    with torch.no_grad():\n",
        "\n",
        "        for (x, y) in tqdm(iterator, desc=\"Evaluating\", leave=False):\n",
        "\n",
        "            x = x.float().to(device)\n",
        "            y = y.to(device)\n",
        "\n",
        "            y_pred = model(x)\n",
        "            pred = torch.argmax(y_pred, dim=1)\n",
        "            loss = criterion(y_pred, y)\n",
        "\n",
        "            acc  = calculate_accuracy(y_pred, y)\n",
        "\n",
        "            epoch_loss += loss.item()\n",
        "            epoch_acc += acc.item()\n",
        "            results_list.append([y, pred])\n",
        "\n",
        "\n",
        "    return epoch_loss / len(iterator), epoch_acc / len(iterator)"
      ]
    },
    {
      "cell_type": "code",
      "execution_count": 36,
      "metadata": {
        "id": "ENrsvnEZREwZ"
      },
      "outputs": [],
      "source": [
        "def epoch_time(start_time, end_time):\n",
        "    elapsed_time = end_time - start_time\n",
        "    elapsed_mins = int(elapsed_time / 60)\n",
        "    elapsed_secs = int(elapsed_time - (elapsed_mins * 60))\n",
        "    return elapsed_mins, elapsed_secs"
      ]
    },
    {
      "cell_type": "markdown",
      "source": [
        "## 🔥 Start training and calculate metrics"
      ],
      "metadata": {
        "id": "qvMx-yMjq6nq"
      }
    },
    {
      "cell_type": "code",
      "source": [
        ""
      ],
      "metadata": {
        "id": "wi4br-WoNMpc"
      },
      "execution_count": null,
      "outputs": []
    },
    {
      "cell_type": "code",
      "source": [
        "# Define evaluation function\n",
        "\n",
        "def test(model, test_loader, logging=False):\n",
        "    model.eval()\n",
        "\n",
        "    predictions = []\n",
        "    targets = []\n",
        "    \n",
        "    # Run the model on some test examples\n",
        "    with torch.no_grad():\n",
        "        correct, total, cumu_loss = 0, 0, 0\n",
        "        for images, labels in test_loader:\n",
        "            images, labels = images.to(device), labels.to(device)\n",
        "            # Get logits\n",
        "            outputs = model(images.float())\n",
        "            outputs = outputs.float()\n",
        "            # Calculate loss\n",
        "            loss = criterion(outputs, labels)\n",
        "            cumu_loss += loss.item()\n",
        "            #Get predictions\n",
        "            _, predicted = torch.max(outputs.data, 1)\n",
        "            total += labels.size(0)\n",
        "            correct += (predicted == labels).sum().item()\n",
        "\n",
        "            # Save predictions\n",
        "            pred = predicted.detach().cpu().detach().numpy()\n",
        "            labels_list = labels.detach().cpu().detach().numpy()\n",
        "\n",
        "            #Flatten\n",
        "            for i in range(len(pred)):\n",
        "              predictions.append(pred[i])\n",
        "              targets.append(labels_list[i])\n",
        "            \n",
        "\n",
        "        return predictions, targets\n"
      ],
      "metadata": {
        "id": "YCNTTuWAA9y6"
      },
      "execution_count": 47,
      "outputs": []
    },
    {
      "cell_type": "code",
      "source": [
        "max_balance = -1\n",
        "patience = 5\n",
        "\n",
        "accuracy_score_epoch = []\n",
        "\n",
        "\n",
        "# Initialize model\n",
        "net = MLP(1296, 7)\n",
        "\n",
        "# transfer network to GPU\n",
        "net.to(device)\n",
        "\n",
        "# define the loss and the optimizer\n",
        "criterion = nn.CrossEntropyLoss()\n",
        "optimizer = optim.Adam(net.parameters(), lr=0.001)\n",
        "\n",
        "t0 = time.time()\n",
        "\n",
        "for epoch in range(100):\n",
        "\n",
        "    running_loss = 0.0\n",
        "    for i, data in enumerate(trainloader, 0):\n",
        "        # transfer data to GPU\n",
        "        inputs, labels = data[0].to(device), data[1].to(device)\n",
        "\n",
        "        # zero the parameter gradients\n",
        "        optimizer.zero_grad()\n",
        "\n",
        "        # forward pass ->\n",
        "        outputs = net(inputs.float())\n",
        "        loss = criterion(outputs, labels)\n",
        "\n",
        "        # backward pass <-\n",
        "        loss.backward()\n",
        "        optimizer.step()\n",
        "        _, predicted = torch.max(outputs, 1)\n",
        "        #print(metrics.classification_report(labels.cpu(), predicted.cpu()))\n",
        "        # print statistics (loss.item() returns the mean loss in the mini-batch)\n",
        "        running_loss += loss.item()\n",
        "    #print('[%d, %5d] loss: %.3f' %\n",
        "    #(epoch + 1, i + 1, running_loss / 2000))\n",
        "    running_loss = 0.0\n",
        "\n",
        "    val_loss, targets = test(net, testloader, False)\n",
        "    balance_accuracy = metrics.balanced_accuracy_score(targets,\n",
        "                                                      val_loss)\n",
        "    accuracy_score_epoch.append(balance_accuracy)                                                                 #val_loss += loss                                                                #val_loss = val_loss / len(trainloader)\n",
        "    if balance_accuracy > max_balance:\n",
        "    #Saving the model\n",
        "      print(f'The Balanced accuracy is {balance_accuracy}')\n",
        "      max_balance = balance_accuracy\n",
        "      best_model = torch.save(net.state_dict(), 'MLP_model.pt')\n",
        "      #print('Min loss %0.2f' % min_val_loss)\n",
        "      f1_score = metrics.f1_score(targets,\n",
        "                                  val_loss,\n",
        "                                  average=None)\n",
        "      trigger_times = 0\n",
        "      min_val_loss = val_loss\n",
        "    else: \n",
        "      trigger_times += 1\n",
        "      print(f'The Balanced accuracy is {balance_accuracy}')\n",
        "    if trigger_times >= patience:\n",
        "        print('Early stopping!\\nStart to test process.')\n",
        "        break\n",
        "\n",
        "print('Finished Training on GPU: total time in seconds =', time.time() - t0)"
      ],
      "metadata": {
        "id": "oBUIFw7o865m",
        "colab": {
          "base_uri": "https://localhost:8080/",
          "height": 0
        },
        "outputId": "31b13e9c-b759-4ad6-ea03-05f5912b3a82"
      },
      "execution_count": 56,
      "outputs": [
        {
          "output_type": "stream",
          "name": "stdout",
          "text": [
            "The Balanced accuracy is 0.29111861874778444\n",
            "The Balanced accuracy is 0.382692028733154\n",
            "The Balanced accuracy is 0.4103341831375032\n",
            "The Balanced accuracy is 0.4250384758981398\n",
            "The Balanced accuracy is 0.44198212263204173\n",
            "The Balanced accuracy is 0.4696509262015763\n",
            "The Balanced accuracy is 0.4644777831604171\n",
            "The Balanced accuracy is 0.4858257797519738\n",
            "The Balanced accuracy is 0.460840146855696\n",
            "The Balanced accuracy is 0.4647040583775947\n",
            "The Balanced accuracy is 0.48020271772079587\n",
            "The Balanced accuracy is 0.5216588778778158\n",
            "The Balanced accuracy is 0.49988521813305553\n",
            "The Balanced accuracy is 0.522858696437995\n",
            "The Balanced accuracy is 0.5139242159714559\n",
            "The Balanced accuracy is 0.5328918564254664\n",
            "The Balanced accuracy is 0.4850242257102316\n",
            "The Balanced accuracy is 0.5236011547762791\n",
            "The Balanced accuracy is 0.5082823502487654\n",
            "The Balanced accuracy is 0.5344474344127391\n",
            "The Balanced accuracy is 0.5110570969162636\n",
            "The Balanced accuracy is 0.5290392528759075\n",
            "The Balanced accuracy is 0.5108573463468131\n",
            "The Balanced accuracy is 0.546981111207585\n",
            "The Balanced accuracy is 0.5224258740785708\n",
            "The Balanced accuracy is 0.5357631437877488\n",
            "The Balanced accuracy is 0.5560561696329697\n",
            "The Balanced accuracy is 0.5063094846159241\n",
            "The Balanced accuracy is 0.5495502987148315\n",
            "The Balanced accuracy is 0.5285297789625165\n",
            "The Balanced accuracy is 0.5063220072270083\n",
            "The Balanced accuracy is 0.5137942531019238\n",
            "Early stopping!\n",
            "Start to test process.\n",
            "Finished Training on GPU: total time in seconds = 12.099558115005493\n"
          ]
        }
      ]
    },
    {
      "cell_type": "code",
      "source": [
        ""
      ],
      "metadata": {
        "id": "DnFQHnO7NMaG"
      },
      "execution_count": null,
      "outputs": []
    },
    {
      "cell_type": "code",
      "execution_count": 37,
      "metadata": {
        "colab": {
          "base_uri": "https://localhost:8080/",
          "height": 417,
          "referenced_widgets": [
            "c85d11f133c34dfdb39d40e27df0064b",
            "8b44e32384984e5cbdc39a695aba10a7",
            "4180d7b937504808a06a8b8c1e5c6978",
            "67e8b57df041449aaae13c2b39e94aed",
            "fbea5986d2554a4298c57342499fefa2",
            "696fd885247346949c5286a763ef431c",
            "ba4bdb3b20d04f3ebf608f4d92a44437",
            "9bb6426cae1742669ff3c28eaa329345",
            "2ad7ef85d7d8417dac14a294d1ed493f",
            "833e45383a744f4b8b6b928e089ea8cf",
            "2066020d2fa74a2d93a939fa472cd0b6",
            "a197dc3c86f44095a2d26ab02ef54a29",
            "77ef4a37c5cf4e3a814be3f6a5ec5451",
            "7a5f1c4adf4b401297b7db35dc58bf8d",
            "b6f7637b67294337a3407dae4fea0b60",
            "e27cfe77fe044ba5a12f6d2373ea8612",
            "54bc5a4a0ed648fea8b22738f3b6de05",
            "f8b9694ed5314565b17f2201c036afc8",
            "d23843cd188b4612bce6e58178483774",
            "2e9865aecca1486893c0a74365492786",
            "9c6d4628b3b64a8b8c35ac09c00b7e6f",
            "ad13510868db4f40aaa1206b9cae8738"
          ]
        },
        "id": "p-gtfzafREwc",
        "outputId": "acdcfc3a-670e-41a5-808e-af8d560bd7c5"
      },
      "outputs": [
        {
          "output_type": "display_data",
          "data": {
            "text/plain": [
              "  0%|          | 0/100 [00:00<?, ?it/s]"
            ],
            "application/vnd.jupyter.widget-view+json": {
              "version_major": 2,
              "version_minor": 0,
              "model_id": "c85d11f133c34dfdb39d40e27df0064b"
            }
          },
          "metadata": {}
        },
        {
          "output_type": "display_data",
          "data": {
            "text/plain": [
              "Training:   0%|          | 0/99 [00:00<?, ?it/s]"
            ],
            "application/vnd.jupyter.widget-view+json": {
              "version_major": 2,
              "version_minor": 0,
              "model_id": "a197dc3c86f44095a2d26ab02ef54a29"
            }
          },
          "metadata": {}
        },
        {
          "output_type": "error",
          "ename": "NameError",
          "evalue": "ignored",
          "traceback": [
            "\u001b[0;31m---------------------------------------------------------------------------\u001b[0m",
            "\u001b[0;31mNameError\u001b[0m                                 Traceback (most recent call last)",
            "\u001b[0;32m<ipython-input-37-09e62963ea8c>\u001b[0m in \u001b[0;36m<module>\u001b[0;34m()\u001b[0m\n\u001b[1;32m     12\u001b[0m     \u001b[0mstart_time\u001b[0m \u001b[0;34m=\u001b[0m \u001b[0mtime\u001b[0m\u001b[0;34m.\u001b[0m\u001b[0mmonotonic\u001b[0m\u001b[0;34m(\u001b[0m\u001b[0;34m)\u001b[0m\u001b[0;34m\u001b[0m\u001b[0;34m\u001b[0m\u001b[0m\n\u001b[1;32m     13\u001b[0m \u001b[0;34m\u001b[0m\u001b[0m\n\u001b[0;32m---> 14\u001b[0;31m     \u001b[0mtrain_loss\u001b[0m\u001b[0;34m,\u001b[0m \u001b[0mtrain_acc\u001b[0m \u001b[0;34m=\u001b[0m \u001b[0mtrain\u001b[0m\u001b[0;34m(\u001b[0m\u001b[0mmodel\u001b[0m\u001b[0;34m,\u001b[0m \u001b[0mtrainloader\u001b[0m\u001b[0;34m,\u001b[0m \u001b[0moptimizer\u001b[0m\u001b[0;34m,\u001b[0m \u001b[0mcriterion\u001b[0m\u001b[0;34m,\u001b[0m \u001b[0mdevice\u001b[0m\u001b[0;34m)\u001b[0m\u001b[0;34m\u001b[0m\u001b[0;34m\u001b[0m\u001b[0m\n\u001b[0m\u001b[1;32m     15\u001b[0m     \u001b[0mvalid_loss\u001b[0m\u001b[0;34m,\u001b[0m \u001b[0mvalid_acc\u001b[0m\u001b[0;34m,\u001b[0m \u001b[0mresults_list\u001b[0m\u001b[0;34m,\u001b[0m \u001b[0mbalance_accuracy\u001b[0m\u001b[0;34m,\u001b[0m \u001b[0mf1_score\u001b[0m \u001b[0;34m=\u001b[0m \u001b[0mevaluate\u001b[0m\u001b[0;34m(\u001b[0m\u001b[0mmodel\u001b[0m\u001b[0;34m,\u001b[0m \u001b[0mtestloader\u001b[0m\u001b[0;34m,\u001b[0m \u001b[0mcriterion\u001b[0m\u001b[0;34m,\u001b[0m \u001b[0mdevice\u001b[0m\u001b[0;34m)\u001b[0m\u001b[0;34m\u001b[0m\u001b[0;34m\u001b[0m\u001b[0m\n\u001b[1;32m     16\u001b[0m \u001b[0;34m\u001b[0m\u001b[0m\n",
            "\u001b[0;32m<ipython-input-34-80e58eda5314>\u001b[0m in \u001b[0;36mtrain\u001b[0;34m(model, iterator, optimizer, criterion, device)\u001b[0m\n\u001b[1;32m     19\u001b[0m \u001b[0;34m\u001b[0m\u001b[0m\n\u001b[1;32m     20\u001b[0m \u001b[0;34m\u001b[0m\u001b[0m\n\u001b[0;32m---> 21\u001b[0;31m         \u001b[0macc\u001b[0m \u001b[0;34m=\u001b[0m \u001b[0mcalculate_accuracy\u001b[0m\u001b[0;34m(\u001b[0m\u001b[0my_pred\u001b[0m\u001b[0;34m,\u001b[0m \u001b[0my\u001b[0m\u001b[0;34m)\u001b[0m\u001b[0;34m\u001b[0m\u001b[0;34m\u001b[0m\u001b[0m\n\u001b[0m\u001b[1;32m     22\u001b[0m \u001b[0;34m\u001b[0m\u001b[0m\n\u001b[1;32m     23\u001b[0m         \u001b[0mloss\u001b[0m\u001b[0;34m.\u001b[0m\u001b[0mbackward\u001b[0m\u001b[0;34m(\u001b[0m\u001b[0;34m)\u001b[0m\u001b[0;34m\u001b[0m\u001b[0;34m\u001b[0m\u001b[0m\n",
            "\u001b[0;32m<ipython-input-18-914254714971>\u001b[0m in \u001b[0;36mcalculate_accuracy\u001b[0;34m(y_pred, y)\u001b[0m\n\u001b[1;32m     15\u001b[0m \u001b[0;34m\u001b[0m\u001b[0m\n\u001b[1;32m     16\u001b[0m     \u001b[0macc\u001b[0m \u001b[0;34m=\u001b[0m \u001b[0mcorrect\u001b[0m\u001b[0;34m.\u001b[0m\u001b[0mfloat\u001b[0m\u001b[0;34m(\u001b[0m\u001b[0;34m)\u001b[0m \u001b[0;34m/\u001b[0m \u001b[0my\u001b[0m\u001b[0;34m.\u001b[0m\u001b[0mshape\u001b[0m\u001b[0;34m[\u001b[0m\u001b[0;36m0\u001b[0m\u001b[0;34m]\u001b[0m\u001b[0;34m\u001b[0m\u001b[0;34m\u001b[0m\u001b[0m\n\u001b[0;32m---> 17\u001b[0;31m     \u001b[0;32mreturn\u001b[0m \u001b[0macc\u001b[0m\u001b[0;34m,\u001b[0m \u001b[0mbalance_accuracy\u001b[0m\u001b[0;34m,\u001b[0m \u001b[0mf1_score\u001b[0m\u001b[0;34m\u001b[0m\u001b[0;34m\u001b[0m\u001b[0m\n\u001b[0m",
            "\u001b[0;31mNameError\u001b[0m: name 'balance_accuracy' is not defined"
          ]
        }
      ],
      "source": [
        "EPOCHS = 100\n",
        "count = 0\n",
        "best_valid_loss = float('inf')\n",
        "best_balance_accuracy = float(-1)\n",
        "model = MLP(1296, 7)\n",
        "\n",
        "# Create the Loss function and the optimizer\n",
        "criterion = nn.CrossEntropyLoss()\n",
        "optimizer = optim.Adam(model.parameters(), lr=0.001)\n",
        "for epoch in trange(EPOCHS):\n",
        "\n",
        "    start_time = time.monotonic()\n",
        "\n",
        "    train_loss, train_acc = train(model, trainloader, optimizer, criterion, device)\n",
        "    valid_loss, valid_acc, results_list, balance_accuracy, f1_score = evaluate(model, testloader, criterion, device)\n",
        "\n",
        "    y_, pred_ = flattens(results_list)\n",
        "\n",
        "    balance_accuracy = metrics.balanced_accuracy_score(y_,\n",
        "                                                      pred_)\n",
        "    f1_score = metrics.f1_score(y_,\n",
        "                                pred_,\n",
        "                                  average=None)\n",
        "\n",
        "\n",
        "    if valid_loss < best_valid_loss:\n",
        "        print(f'BEST Balance Accuracy {balance_accuracy}!')\n",
        "        best_balance_accuracy = balance_accuracy\n",
        "        #best_valid_loss = valid_loss\n",
        "        best_valid_loss = valid_loss\n",
        "        torch.save(model.state_dict(), 'mlp-hog.pt')\n",
        "        count = 0\n",
        "    else:\n",
        "      count += 1\n",
        "\n",
        "    end_time = time.monotonic()\n",
        "\n",
        "    epoch_mins, epoch_secs = epoch_time(start_time, end_time)\n",
        "    print(f'Epoch: {epoch+1:02} | Epoch Time: {epoch_mins}m {epoch_secs}s')\n",
        "    print(f'\\tTrain Loss: {train_loss:.3f} | Train Acc: {train_acc*100:.2f}%')\n",
        "    print(f'\\t Val. Loss: {valid_loss:.3f} |  Val. Acc: {valid_acc*100:.2f}%')\n",
        "    #(f'\\t Balanced accuracy: {balance_accuracy:.3f} | ')\n",
        "    #print(f'F1 scores are {f1_score}')\n",
        "\n",
        "    if count >= 5:\n",
        "      break\n",
        "    "
      ]
    },
    {
      "cell_type": "markdown",
      "source": [
        "The initial Run had best balance accuracy of 0.5503950940828651 with accuracy of 66.29. The  macro F1 scores were 0.60508083 0.4109589  0.12121212 0.8328968  0.51612903 0.55555556\n",
        " 0.625     ] with 17 epochs with a patience of 5\n",
        "\n",
        "\n",
        " I tried using a weighted cross entropy loss. The balanced accuracy was BEST Balance Accuracy 0.5629784192331861! and the F1 scores were [0.56886228 0.39726027 0.26031746 0.77208153 0.4953271  0.49180328\n",
        " 0.5862069 ] with a Validation accuracy of 59%\n",
        "\n"
      ],
      "metadata": {
        "id": "jpDIngQpdqt-"
      }
    },
    {
      "cell_type": "code",
      "source": [
        "# Adapted from https://discuss.pytorch.org/t/how-to-handle-imbalanced-classes/11264/5\n",
        "class_sample_count = np.unique(y_train, return_counts=True)[1]\n",
        "y = y_train - 1\n",
        "weight = 1 / class_sample_count\n"
      ],
      "metadata": {
        "id": "zSUVAz0deXym"
      },
      "execution_count": 127,
      "outputs": []
    }
  ]
}